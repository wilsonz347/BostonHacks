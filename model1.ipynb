{
 "cells": [
  {
   "cell_type": "code",
   "id": "initial_id",
   "metadata": {
    "collapsed": true,
    "ExecuteTime": {
     "end_time": "2024-11-02T20:11:26.879687Z",
     "start_time": "2024-11-02T20:11:16.800189Z"
    }
   },
   "source": [
    "import pandas as pd\n",
    "import sklearn \n",
    "import numpy as np\n",
    "import matplotlib.pyplot as plt\n",
    "from sklearn.preprocessing import StandardScaler, OneHotEncoder\n",
    "from sklearn.model_selection import train_test_split"
   ],
   "outputs": [],
   "execution_count": 1
  },
  {
   "metadata": {
    "ExecuteTime": {
     "end_time": "2024-11-02T20:11:27.266650Z",
     "start_time": "2024-11-02T20:11:26.905229Z"
    }
   },
   "cell_type": "code",
   "source": [
    "df = pd.read_csv('solar_flare.csv')\n",
    "df.head()"
   ],
   "id": "c0d56c8b3d5be972",
   "outputs": [
    {
     "data": {
      "text/plain": [
       "     flare  start.date start.time      peak       end  duration.s  peak.c/s  \\\n",
       "0  2021213  2002-02-12   21:29:56  21:33:38  21:41:48         712       136   \n",
       "1  2021228  2002-02-12   21:44:08  21:45:06  21:48:56         288         7   \n",
       "2  2021332  2002-02-13   00:53:24  00:54:54  00:57:00         216        15   \n",
       "3  2021308  2002-02-13   04:22:52  04:23:50  04:26:56         244        20   \n",
       "4  2021310  2002-02-13   07:03:52  07:05:14  07:07:48         236       336   \n",
       "\n",
       "   total.counts energy.kev  x.pos.asec  y.pos.asec  radial  active.region.ar  \\\n",
       "0      167304.0      12-25         592        -358     692                 0   \n",
       "1        9504.0       6-12         604        -341     694              9811   \n",
       "2       11448.0       6-12        -310         375     487              9825   \n",
       "3       17400.0      12-25        -277         378     469              9822   \n",
       "4      313392.0      25-50        -272         390     476              9825   \n",
       "\n",
       "  flag.1 flag.2 flag.3 flag.4 flag.5  \n",
       "0     A1     P1    NaN    NaN    NaN  \n",
       "1     A1     P1     PE     Q1    NaN  \n",
       "2     A1     P1    NaN    NaN    NaN  \n",
       "3     A1     P1    NaN    NaN    NaN  \n",
       "4     A1     GS     P1     PE     Q2  "
      ],
      "text/html": [
       "<div>\n",
       "<style scoped>\n",
       "    .dataframe tbody tr th:only-of-type {\n",
       "        vertical-align: middle;\n",
       "    }\n",
       "\n",
       "    .dataframe tbody tr th {\n",
       "        vertical-align: top;\n",
       "    }\n",
       "\n",
       "    .dataframe thead th {\n",
       "        text-align: right;\n",
       "    }\n",
       "</style>\n",
       "<table border=\"1\" class=\"dataframe\">\n",
       "  <thead>\n",
       "    <tr style=\"text-align: right;\">\n",
       "      <th></th>\n",
       "      <th>flare</th>\n",
       "      <th>start.date</th>\n",
       "      <th>start.time</th>\n",
       "      <th>peak</th>\n",
       "      <th>end</th>\n",
       "      <th>duration.s</th>\n",
       "      <th>peak.c/s</th>\n",
       "      <th>total.counts</th>\n",
       "      <th>energy.kev</th>\n",
       "      <th>x.pos.asec</th>\n",
       "      <th>y.pos.asec</th>\n",
       "      <th>radial</th>\n",
       "      <th>active.region.ar</th>\n",
       "      <th>flag.1</th>\n",
       "      <th>flag.2</th>\n",
       "      <th>flag.3</th>\n",
       "      <th>flag.4</th>\n",
       "      <th>flag.5</th>\n",
       "    </tr>\n",
       "  </thead>\n",
       "  <tbody>\n",
       "    <tr>\n",
       "      <th>0</th>\n",
       "      <td>2021213</td>\n",
       "      <td>2002-02-12</td>\n",
       "      <td>21:29:56</td>\n",
       "      <td>21:33:38</td>\n",
       "      <td>21:41:48</td>\n",
       "      <td>712</td>\n",
       "      <td>136</td>\n",
       "      <td>167304.0</td>\n",
       "      <td>12-25</td>\n",
       "      <td>592</td>\n",
       "      <td>-358</td>\n",
       "      <td>692</td>\n",
       "      <td>0</td>\n",
       "      <td>A1</td>\n",
       "      <td>P1</td>\n",
       "      <td>NaN</td>\n",
       "      <td>NaN</td>\n",
       "      <td>NaN</td>\n",
       "    </tr>\n",
       "    <tr>\n",
       "      <th>1</th>\n",
       "      <td>2021228</td>\n",
       "      <td>2002-02-12</td>\n",
       "      <td>21:44:08</td>\n",
       "      <td>21:45:06</td>\n",
       "      <td>21:48:56</td>\n",
       "      <td>288</td>\n",
       "      <td>7</td>\n",
       "      <td>9504.0</td>\n",
       "      <td>6-12</td>\n",
       "      <td>604</td>\n",
       "      <td>-341</td>\n",
       "      <td>694</td>\n",
       "      <td>9811</td>\n",
       "      <td>A1</td>\n",
       "      <td>P1</td>\n",
       "      <td>PE</td>\n",
       "      <td>Q1</td>\n",
       "      <td>NaN</td>\n",
       "    </tr>\n",
       "    <tr>\n",
       "      <th>2</th>\n",
       "      <td>2021332</td>\n",
       "      <td>2002-02-13</td>\n",
       "      <td>00:53:24</td>\n",
       "      <td>00:54:54</td>\n",
       "      <td>00:57:00</td>\n",
       "      <td>216</td>\n",
       "      <td>15</td>\n",
       "      <td>11448.0</td>\n",
       "      <td>6-12</td>\n",
       "      <td>-310</td>\n",
       "      <td>375</td>\n",
       "      <td>487</td>\n",
       "      <td>9825</td>\n",
       "      <td>A1</td>\n",
       "      <td>P1</td>\n",
       "      <td>NaN</td>\n",
       "      <td>NaN</td>\n",
       "      <td>NaN</td>\n",
       "    </tr>\n",
       "    <tr>\n",
       "      <th>3</th>\n",
       "      <td>2021308</td>\n",
       "      <td>2002-02-13</td>\n",
       "      <td>04:22:52</td>\n",
       "      <td>04:23:50</td>\n",
       "      <td>04:26:56</td>\n",
       "      <td>244</td>\n",
       "      <td>20</td>\n",
       "      <td>17400.0</td>\n",
       "      <td>12-25</td>\n",
       "      <td>-277</td>\n",
       "      <td>378</td>\n",
       "      <td>469</td>\n",
       "      <td>9822</td>\n",
       "      <td>A1</td>\n",
       "      <td>P1</td>\n",
       "      <td>NaN</td>\n",
       "      <td>NaN</td>\n",
       "      <td>NaN</td>\n",
       "    </tr>\n",
       "    <tr>\n",
       "      <th>4</th>\n",
       "      <td>2021310</td>\n",
       "      <td>2002-02-13</td>\n",
       "      <td>07:03:52</td>\n",
       "      <td>07:05:14</td>\n",
       "      <td>07:07:48</td>\n",
       "      <td>236</td>\n",
       "      <td>336</td>\n",
       "      <td>313392.0</td>\n",
       "      <td>25-50</td>\n",
       "      <td>-272</td>\n",
       "      <td>390</td>\n",
       "      <td>476</td>\n",
       "      <td>9825</td>\n",
       "      <td>A1</td>\n",
       "      <td>GS</td>\n",
       "      <td>P1</td>\n",
       "      <td>PE</td>\n",
       "      <td>Q2</td>\n",
       "    </tr>\n",
       "  </tbody>\n",
       "</table>\n",
       "</div>"
      ]
     },
     "execution_count": 2,
     "metadata": {},
     "output_type": "execute_result"
    }
   ],
   "execution_count": 2
  },
  {
   "metadata": {
    "ExecuteTime": {
     "end_time": "2024-11-02T20:11:28.344692Z",
     "start_time": "2024-11-02T20:11:28.216472Z"
    }
   },
   "cell_type": "code",
   "source": "df.info()",
   "id": "479eb740c557f21d",
   "outputs": [
    {
     "name": "stdout",
     "output_type": "stream",
     "text": [
      "<class 'pandas.core.frame.DataFrame'>\n",
      "RangeIndex: 116143 entries, 0 to 116142\n",
      "Data columns (total 18 columns):\n",
      " #   Column            Non-Null Count   Dtype  \n",
      "---  ------            --------------   -----  \n",
      " 0   flare             116143 non-null  int64  \n",
      " 1   start.date        116143 non-null  object \n",
      " 2   start.time        116143 non-null  object \n",
      " 3   peak              116143 non-null  object \n",
      " 4   end               116143 non-null  object \n",
      " 5   duration.s        116143 non-null  int64  \n",
      " 6   peak.c/s          116143 non-null  int64  \n",
      " 7   total.counts      116143 non-null  float64\n",
      " 8   energy.kev        116143 non-null  object \n",
      " 9   x.pos.asec        116143 non-null  int64  \n",
      " 10  y.pos.asec        116143 non-null  int64  \n",
      " 11  radial            116143 non-null  int64  \n",
      " 12  active.region.ar  116143 non-null  int64  \n",
      " 13  flag.1            116143 non-null  object \n",
      " 14  flag.2            116143 non-null  object \n",
      " 15  flag.3            96236 non-null   object \n",
      " 16  flag.4            95941 non-null   object \n",
      " 17  flag.5            54963 non-null   object \n",
      "dtypes: float64(1), int64(7), object(10)\n",
      "memory usage: 15.9+ MB\n"
     ]
    }
   ],
   "execution_count": 3
  },
  {
   "metadata": {
    "ExecuteTime": {
     "end_time": "2024-11-02T20:11:28.475424Z",
     "start_time": "2024-11-02T20:11:28.401830Z"
    }
   },
   "cell_type": "code",
   "source": "df.isnull().sum()",
   "id": "d30a0b142a4487a9",
   "outputs": [
    {
     "data": {
      "text/plain": [
       "flare                   0\n",
       "start.date              0\n",
       "start.time              0\n",
       "peak                    0\n",
       "end                     0\n",
       "duration.s              0\n",
       "peak.c/s                0\n",
       "total.counts            0\n",
       "energy.kev              0\n",
       "x.pos.asec              0\n",
       "y.pos.asec              0\n",
       "radial                  0\n",
       "active.region.ar        0\n",
       "flag.1                  0\n",
       "flag.2                  0\n",
       "flag.3              19907\n",
       "flag.4              20202\n",
       "flag.5              61180\n",
       "dtype: int64"
      ]
     },
     "execution_count": 4,
     "metadata": {},
     "output_type": "execute_result"
    }
   ],
   "execution_count": 4
  },
  {
   "metadata": {
    "ExecuteTime": {
     "end_time": "2024-11-02T20:11:28.605994Z",
     "start_time": "2024-11-02T20:11:28.583363Z"
    }
   },
   "cell_type": "code",
   "source": "df = df.drop(['flare','flag.1','flag.2','flag.3', 'flag.4', 'flag.5'], axis=1)",
   "id": "1a23b55ee2c962bd",
   "outputs": [],
   "execution_count": 5
  },
  {
   "metadata": {
    "ExecuteTime": {
     "end_time": "2024-11-02T20:11:28.775430Z",
     "start_time": "2024-11-02T20:11:28.698183Z"
    }
   },
   "cell_type": "code",
   "source": "df.info()",
   "id": "9d55f9ab52a3ed97",
   "outputs": [
    {
     "name": "stdout",
     "output_type": "stream",
     "text": [
      "<class 'pandas.core.frame.DataFrame'>\n",
      "RangeIndex: 116143 entries, 0 to 116142\n",
      "Data columns (total 12 columns):\n",
      " #   Column            Non-Null Count   Dtype  \n",
      "---  ------            --------------   -----  \n",
      " 0   start.date        116143 non-null  object \n",
      " 1   start.time        116143 non-null  object \n",
      " 2   peak              116143 non-null  object \n",
      " 3   end               116143 non-null  object \n",
      " 4   duration.s        116143 non-null  int64  \n",
      " 5   peak.c/s          116143 non-null  int64  \n",
      " 6   total.counts      116143 non-null  float64\n",
      " 7   energy.kev        116143 non-null  object \n",
      " 8   x.pos.asec        116143 non-null  int64  \n",
      " 9   y.pos.asec        116143 non-null  int64  \n",
      " 10  radial            116143 non-null  int64  \n",
      " 11  active.region.ar  116143 non-null  int64  \n",
      "dtypes: float64(1), int64(6), object(5)\n",
      "memory usage: 10.6+ MB\n"
     ]
    }
   ],
   "execution_count": 6
  },
  {
   "metadata": {
    "ExecuteTime": {
     "end_time": "2024-11-02T20:11:29.564418Z",
     "start_time": "2024-11-02T20:11:28.898869Z"
    }
   },
   "cell_type": "code",
   "source": [
    "df['start.time'] = pd.to_datetime(df['start.date'] + ' ' + df['start.time'])\n",
    "df['peak'] = pd.to_datetime(df['start.date'] + ' ' + df['peak'])\n",
    "df['end'] = pd.to_datetime(df['start.date'] + ' ' + df['end'])\n",
    "df.head()"
   ],
   "id": "7aa5421036e5d942",
   "outputs": [
    {
     "data": {
      "text/plain": [
       "   start.date          start.time                peak                 end  \\\n",
       "0  2002-02-12 2002-02-12 21:29:56 2002-02-12 21:33:38 2002-02-12 21:41:48   \n",
       "1  2002-02-12 2002-02-12 21:44:08 2002-02-12 21:45:06 2002-02-12 21:48:56   \n",
       "2  2002-02-13 2002-02-13 00:53:24 2002-02-13 00:54:54 2002-02-13 00:57:00   \n",
       "3  2002-02-13 2002-02-13 04:22:52 2002-02-13 04:23:50 2002-02-13 04:26:56   \n",
       "4  2002-02-13 2002-02-13 07:03:52 2002-02-13 07:05:14 2002-02-13 07:07:48   \n",
       "\n",
       "   duration.s  peak.c/s  total.counts energy.kev  x.pos.asec  y.pos.asec  \\\n",
       "0         712       136      167304.0      12-25         592        -358   \n",
       "1         288         7        9504.0       6-12         604        -341   \n",
       "2         216        15       11448.0       6-12        -310         375   \n",
       "3         244        20       17400.0      12-25        -277         378   \n",
       "4         236       336      313392.0      25-50        -272         390   \n",
       "\n",
       "   radial  active.region.ar  \n",
       "0     692                 0  \n",
       "1     694              9811  \n",
       "2     487              9825  \n",
       "3     469              9822  \n",
       "4     476              9825  "
      ],
      "text/html": [
       "<div>\n",
       "<style scoped>\n",
       "    .dataframe tbody tr th:only-of-type {\n",
       "        vertical-align: middle;\n",
       "    }\n",
       "\n",
       "    .dataframe tbody tr th {\n",
       "        vertical-align: top;\n",
       "    }\n",
       "\n",
       "    .dataframe thead th {\n",
       "        text-align: right;\n",
       "    }\n",
       "</style>\n",
       "<table border=\"1\" class=\"dataframe\">\n",
       "  <thead>\n",
       "    <tr style=\"text-align: right;\">\n",
       "      <th></th>\n",
       "      <th>start.date</th>\n",
       "      <th>start.time</th>\n",
       "      <th>peak</th>\n",
       "      <th>end</th>\n",
       "      <th>duration.s</th>\n",
       "      <th>peak.c/s</th>\n",
       "      <th>total.counts</th>\n",
       "      <th>energy.kev</th>\n",
       "      <th>x.pos.asec</th>\n",
       "      <th>y.pos.asec</th>\n",
       "      <th>radial</th>\n",
       "      <th>active.region.ar</th>\n",
       "    </tr>\n",
       "  </thead>\n",
       "  <tbody>\n",
       "    <tr>\n",
       "      <th>0</th>\n",
       "      <td>2002-02-12</td>\n",
       "      <td>2002-02-12 21:29:56</td>\n",
       "      <td>2002-02-12 21:33:38</td>\n",
       "      <td>2002-02-12 21:41:48</td>\n",
       "      <td>712</td>\n",
       "      <td>136</td>\n",
       "      <td>167304.0</td>\n",
       "      <td>12-25</td>\n",
       "      <td>592</td>\n",
       "      <td>-358</td>\n",
       "      <td>692</td>\n",
       "      <td>0</td>\n",
       "    </tr>\n",
       "    <tr>\n",
       "      <th>1</th>\n",
       "      <td>2002-02-12</td>\n",
       "      <td>2002-02-12 21:44:08</td>\n",
       "      <td>2002-02-12 21:45:06</td>\n",
       "      <td>2002-02-12 21:48:56</td>\n",
       "      <td>288</td>\n",
       "      <td>7</td>\n",
       "      <td>9504.0</td>\n",
       "      <td>6-12</td>\n",
       "      <td>604</td>\n",
       "      <td>-341</td>\n",
       "      <td>694</td>\n",
       "      <td>9811</td>\n",
       "    </tr>\n",
       "    <tr>\n",
       "      <th>2</th>\n",
       "      <td>2002-02-13</td>\n",
       "      <td>2002-02-13 00:53:24</td>\n",
       "      <td>2002-02-13 00:54:54</td>\n",
       "      <td>2002-02-13 00:57:00</td>\n",
       "      <td>216</td>\n",
       "      <td>15</td>\n",
       "      <td>11448.0</td>\n",
       "      <td>6-12</td>\n",
       "      <td>-310</td>\n",
       "      <td>375</td>\n",
       "      <td>487</td>\n",
       "      <td>9825</td>\n",
       "    </tr>\n",
       "    <tr>\n",
       "      <th>3</th>\n",
       "      <td>2002-02-13</td>\n",
       "      <td>2002-02-13 04:22:52</td>\n",
       "      <td>2002-02-13 04:23:50</td>\n",
       "      <td>2002-02-13 04:26:56</td>\n",
       "      <td>244</td>\n",
       "      <td>20</td>\n",
       "      <td>17400.0</td>\n",
       "      <td>12-25</td>\n",
       "      <td>-277</td>\n",
       "      <td>378</td>\n",
       "      <td>469</td>\n",
       "      <td>9822</td>\n",
       "    </tr>\n",
       "    <tr>\n",
       "      <th>4</th>\n",
       "      <td>2002-02-13</td>\n",
       "      <td>2002-02-13 07:03:52</td>\n",
       "      <td>2002-02-13 07:05:14</td>\n",
       "      <td>2002-02-13 07:07:48</td>\n",
       "      <td>236</td>\n",
       "      <td>336</td>\n",
       "      <td>313392.0</td>\n",
       "      <td>25-50</td>\n",
       "      <td>-272</td>\n",
       "      <td>390</td>\n",
       "      <td>476</td>\n",
       "      <td>9825</td>\n",
       "    </tr>\n",
       "  </tbody>\n",
       "</table>\n",
       "</div>"
      ]
     },
     "execution_count": 7,
     "metadata": {},
     "output_type": "execute_result"
    }
   ],
   "execution_count": 7
  },
  {
   "metadata": {
    "ExecuteTime": {
     "end_time": "2024-11-02T20:11:29.674830Z",
     "start_time": "2024-11-02T20:11:29.651242Z"
    }
   },
   "cell_type": "code",
   "source": "df = df.drop('start.date', axis=1)",
   "id": "c657fec5e49ee353",
   "outputs": [],
   "execution_count": 8
  },
  {
   "metadata": {
    "ExecuteTime": {
     "end_time": "2024-11-02T20:11:29.943884Z",
     "start_time": "2024-11-02T20:11:29.907462Z"
    }
   },
   "cell_type": "code",
   "source": [
    "df = df[df['start.time'] > '2009-12-31 23:59:59']\n",
    "df.info()"
   ],
   "id": "7e229704f8177f06",
   "outputs": [
    {
     "name": "stdout",
     "output_type": "stream",
     "text": [
      "<class 'pandas.core.frame.DataFrame'>\n",
      "Index: 66565 entries, 49578 to 116142\n",
      "Data columns (total 11 columns):\n",
      " #   Column            Non-Null Count  Dtype         \n",
      "---  ------            --------------  -----         \n",
      " 0   start.time        66565 non-null  datetime64[ns]\n",
      " 1   peak              66565 non-null  datetime64[ns]\n",
      " 2   end               66565 non-null  datetime64[ns]\n",
      " 3   duration.s        66565 non-null  int64         \n",
      " 4   peak.c/s          66565 non-null  int64         \n",
      " 5   total.counts      66565 non-null  float64       \n",
      " 6   energy.kev        66565 non-null  object        \n",
      " 7   x.pos.asec        66565 non-null  int64         \n",
      " 8   y.pos.asec        66565 non-null  int64         \n",
      " 9   radial            66565 non-null  int64         \n",
      " 10  active.region.ar  66565 non-null  int64         \n",
      "dtypes: datetime64[ns](3), float64(1), int64(6), object(1)\n",
      "memory usage: 6.1+ MB\n"
     ]
    }
   ],
   "execution_count": 9
  },
  {
   "metadata": {
    "ExecuteTime": {
     "end_time": "2024-11-02T20:11:30.100983Z",
     "start_time": "2024-11-02T20:11:29.993629Z"
    }
   },
   "cell_type": "code",
   "source": [
    "# Split the column and convert to eV\n",
    "df[['energy_low_ev', 'energy_high_ev']] = df['energy.kev'].str.split('-', expand=True).astype(float) * 1000\n",
    "\n",
    "# Convert to integer\n",
    "df['energy_low_ev'] = df['energy_low_ev'].astype(int)\n",
    "df['energy_high_ev'] = df['energy_high_ev'].astype(int)\n",
    "df = df.drop('energy.kev', axis=1)"
   ],
   "id": "23e5298fbfa6f191",
   "outputs": [],
   "execution_count": 10
  },
  {
   "metadata": {
    "ExecuteTime": {
     "end_time": "2024-11-02T20:11:30.177421Z",
     "start_time": "2024-11-02T20:11:30.154819Z"
    }
   },
   "cell_type": "code",
   "source": "df.head()",
   "id": "524b679eb60d8a0f",
   "outputs": [
    {
     "data": {
      "text/plain": [
       "               start.time                peak                 end  duration.s  \\\n",
       "49578 2010-01-01 09:47:20 2010-01-01 09:48:06 2010-01-01 09:52:48         328   \n",
       "49579 2010-01-01 15:49:04 2010-01-01 15:50:34 2010-01-01 15:50:40          96   \n",
       "49580 2010-01-02 00:19:36 2010-01-02 00:20:50 2010-01-02 00:20:56          80   \n",
       "49581 2010-01-02 07:26:04 2010-01-02 07:26:30 2010-01-02 07:32:32         388   \n",
       "49582 2010-01-02 07:32:32 2010-01-02 07:35:50 2010-01-02 07:42:04         572   \n",
       "\n",
       "       peak.c/s  total.counts  x.pos.asec  y.pos.asec  radial  \\\n",
       "49578       136      123696.0           0           0       0   \n",
       "49579        88       27360.0           0           0       0   \n",
       "49580        92       24192.0           0           0       0   \n",
       "49581       144      154632.0         532        -399     666   \n",
       "49582        76      153600.0         518        -402     656   \n",
       "\n",
       "       active.region.ar  energy_low_ev  energy_high_ev  \n",
       "49578                 0           3000            6000  \n",
       "49579                 0           3000            6000  \n",
       "49580                 0           3000            6000  \n",
       "49581              1039           6000           12000  \n",
       "49582              1039           6000           12000  "
      ],
      "text/html": [
       "<div>\n",
       "<style scoped>\n",
       "    .dataframe tbody tr th:only-of-type {\n",
       "        vertical-align: middle;\n",
       "    }\n",
       "\n",
       "    .dataframe tbody tr th {\n",
       "        vertical-align: top;\n",
       "    }\n",
       "\n",
       "    .dataframe thead th {\n",
       "        text-align: right;\n",
       "    }\n",
       "</style>\n",
       "<table border=\"1\" class=\"dataframe\">\n",
       "  <thead>\n",
       "    <tr style=\"text-align: right;\">\n",
       "      <th></th>\n",
       "      <th>start.time</th>\n",
       "      <th>peak</th>\n",
       "      <th>end</th>\n",
       "      <th>duration.s</th>\n",
       "      <th>peak.c/s</th>\n",
       "      <th>total.counts</th>\n",
       "      <th>x.pos.asec</th>\n",
       "      <th>y.pos.asec</th>\n",
       "      <th>radial</th>\n",
       "      <th>active.region.ar</th>\n",
       "      <th>energy_low_ev</th>\n",
       "      <th>energy_high_ev</th>\n",
       "    </tr>\n",
       "  </thead>\n",
       "  <tbody>\n",
       "    <tr>\n",
       "      <th>49578</th>\n",
       "      <td>2010-01-01 09:47:20</td>\n",
       "      <td>2010-01-01 09:48:06</td>\n",
       "      <td>2010-01-01 09:52:48</td>\n",
       "      <td>328</td>\n",
       "      <td>136</td>\n",
       "      <td>123696.0</td>\n",
       "      <td>0</td>\n",
       "      <td>0</td>\n",
       "      <td>0</td>\n",
       "      <td>0</td>\n",
       "      <td>3000</td>\n",
       "      <td>6000</td>\n",
       "    </tr>\n",
       "    <tr>\n",
       "      <th>49579</th>\n",
       "      <td>2010-01-01 15:49:04</td>\n",
       "      <td>2010-01-01 15:50:34</td>\n",
       "      <td>2010-01-01 15:50:40</td>\n",
       "      <td>96</td>\n",
       "      <td>88</td>\n",
       "      <td>27360.0</td>\n",
       "      <td>0</td>\n",
       "      <td>0</td>\n",
       "      <td>0</td>\n",
       "      <td>0</td>\n",
       "      <td>3000</td>\n",
       "      <td>6000</td>\n",
       "    </tr>\n",
       "    <tr>\n",
       "      <th>49580</th>\n",
       "      <td>2010-01-02 00:19:36</td>\n",
       "      <td>2010-01-02 00:20:50</td>\n",
       "      <td>2010-01-02 00:20:56</td>\n",
       "      <td>80</td>\n",
       "      <td>92</td>\n",
       "      <td>24192.0</td>\n",
       "      <td>0</td>\n",
       "      <td>0</td>\n",
       "      <td>0</td>\n",
       "      <td>0</td>\n",
       "      <td>3000</td>\n",
       "      <td>6000</td>\n",
       "    </tr>\n",
       "    <tr>\n",
       "      <th>49581</th>\n",
       "      <td>2010-01-02 07:26:04</td>\n",
       "      <td>2010-01-02 07:26:30</td>\n",
       "      <td>2010-01-02 07:32:32</td>\n",
       "      <td>388</td>\n",
       "      <td>144</td>\n",
       "      <td>154632.0</td>\n",
       "      <td>532</td>\n",
       "      <td>-399</td>\n",
       "      <td>666</td>\n",
       "      <td>1039</td>\n",
       "      <td>6000</td>\n",
       "      <td>12000</td>\n",
       "    </tr>\n",
       "    <tr>\n",
       "      <th>49582</th>\n",
       "      <td>2010-01-02 07:32:32</td>\n",
       "      <td>2010-01-02 07:35:50</td>\n",
       "      <td>2010-01-02 07:42:04</td>\n",
       "      <td>572</td>\n",
       "      <td>76</td>\n",
       "      <td>153600.0</td>\n",
       "      <td>518</td>\n",
       "      <td>-402</td>\n",
       "      <td>656</td>\n",
       "      <td>1039</td>\n",
       "      <td>6000</td>\n",
       "      <td>12000</td>\n",
       "    </tr>\n",
       "  </tbody>\n",
       "</table>\n",
       "</div>"
      ]
     },
     "execution_count": 11,
     "metadata": {},
     "output_type": "execute_result"
    }
   ],
   "execution_count": 11
  },
  {
   "metadata": {
    "ExecuteTime": {
     "end_time": "2024-11-02T20:11:30.301622Z",
     "start_time": "2024-11-02T20:11:30.280703Z"
    }
   },
   "cell_type": "code",
   "source": "df.info()",
   "id": "a25b4b95884596a6",
   "outputs": [
    {
     "name": "stdout",
     "output_type": "stream",
     "text": [
      "<class 'pandas.core.frame.DataFrame'>\n",
      "Index: 66565 entries, 49578 to 116142\n",
      "Data columns (total 12 columns):\n",
      " #   Column            Non-Null Count  Dtype         \n",
      "---  ------            --------------  -----         \n",
      " 0   start.time        66565 non-null  datetime64[ns]\n",
      " 1   peak              66565 non-null  datetime64[ns]\n",
      " 2   end               66565 non-null  datetime64[ns]\n",
      " 3   duration.s        66565 non-null  int64         \n",
      " 4   peak.c/s          66565 non-null  int64         \n",
      " 5   total.counts      66565 non-null  float64       \n",
      " 6   x.pos.asec        66565 non-null  int64         \n",
      " 7   y.pos.asec        66565 non-null  int64         \n",
      " 8   radial            66565 non-null  int64         \n",
      " 9   active.region.ar  66565 non-null  int64         \n",
      " 10  energy_low_ev     66565 non-null  int64         \n",
      " 11  energy_high_ev    66565 non-null  int64         \n",
      "dtypes: datetime64[ns](3), float64(1), int64(8)\n",
      "memory usage: 6.6 MB\n"
     ]
    }
   ],
   "execution_count": 12
  },
  {
   "metadata": {
    "ExecuteTime": {
     "end_time": "2024-11-02T20:18:30.845795Z",
     "start_time": "2024-11-02T20:18:30.788050Z"
    }
   },
   "cell_type": "code",
   "source": [
    "scaler = StandardScaler()\n",
    "scaled_data = df.drop(['start.time','peak','end'], axis=1)\n",
    "scaled_array = scaler.fit_transform(scaled_data)\n",
    "\n",
    "print(scaled_array)"
   ],
   "id": "3655fb4e21191755",
   "outputs": [
    {
     "name": "stdout",
     "output_type": "stream",
     "text": [
      "[[-0.37724476 -0.09456046 -0.11506527 ... -1.3224924  -0.66563931\n",
      "  -0.53156433]\n",
      " [-0.91710013 -0.16972581 -0.17968162 ... -1.3224924  -0.66563931\n",
      "  -0.53156433]\n",
      " [-0.95433153 -0.16346203 -0.18180652 ... -1.3224924  -0.66563931\n",
      "  -0.53156433]\n",
      " ...\n",
      " [-0.79609806 -0.28403978 -0.19654132 ...  1.67727614 -0.23060891\n",
      "  -0.199153  ]\n",
      " [-0.59132534 -0.28247383 -0.19581156 ...  1.67838757 -0.23060891\n",
      "  -0.199153  ]\n",
      " [ 0.00437713 -0.24175927 -0.18742463 ...  1.67838757 -0.23060891\n",
      "  -0.199153  ]]\n"
     ]
    }
   ],
   "execution_count": 13
  },
  {
   "metadata": {},
   "cell_type": "code",
   "outputs": [],
   "execution_count": null,
   "source": "",
   "id": "e291ff1e2f0241b5"
  }
 ],
 "metadata": {
  "kernelspec": {
   "display_name": "Python 3",
   "language": "python",
   "name": "python3"
  },
  "language_info": {
   "codemirror_mode": {
    "name": "ipython",
    "version": 2
   },
   "file_extension": ".py",
   "mimetype": "text/x-python",
   "name": "python",
   "nbconvert_exporter": "python",
   "pygments_lexer": "ipython2",
   "version": "2.7.6"
  }
 },
 "nbformat": 4,
 "nbformat_minor": 5
}
