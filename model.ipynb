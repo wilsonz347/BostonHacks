{
 "cells": [
  {
   "cell_type": "code",
   "id": "initial_id",
   "metadata": {
    "collapsed": true,
    "ExecuteTime": {
     "end_time": "2024-11-02T16:23:25.035130Z",
     "start_time": "2024-11-02T16:23:25.027971Z"
    }
   },
   "source": [
    "import pandas as pd\n",
    "import sklearn \n",
    "import numpy as np\n",
    "import matplotlib.pyplot as plt"
   ],
   "outputs": [],
   "execution_count": 6
  },
  {
   "metadata": {
    "ExecuteTime": {
     "end_time": "2024-11-02T16:23:25.562253Z",
     "start_time": "2024-11-02T16:23:25.087265Z"
    }
   },
   "cell_type": "code",
   "source": [
    "df = pd.read_csv('solar_flare.csv')\n",
    "df.head()"
   ],
   "id": "c0d56c8b3d5be972",
   "outputs": [
    {
     "data": {
      "text/plain": [
       "     flare  start.date start.time      peak       end  duration.s  peak.c/s  \\\n",
       "0  2021213  2002-02-12   21:29:56  21:33:38  21:41:48         712       136   \n",
       "1  2021228  2002-02-12   21:44:08  21:45:06  21:48:56         288         7   \n",
       "2  2021332  2002-02-13   00:53:24  00:54:54  00:57:00         216        15   \n",
       "3  2021308  2002-02-13   04:22:52  04:23:50  04:26:56         244        20   \n",
       "4  2021310  2002-02-13   07:03:52  07:05:14  07:07:48         236       336   \n",
       "\n",
       "   total.counts energy.kev  x.pos.asec  y.pos.asec  radial  active.region.ar  \\\n",
       "0      167304.0      12-25         592        -358     692                 0   \n",
       "1        9504.0       6-12         604        -341     694              9811   \n",
       "2       11448.0       6-12        -310         375     487              9825   \n",
       "3       17400.0      12-25        -277         378     469              9822   \n",
       "4      313392.0      25-50        -272         390     476              9825   \n",
       "\n",
       "  flag.1 flag.2 flag.3 flag.4 flag.5  \n",
       "0     A1     P1    NaN    NaN    NaN  \n",
       "1     A1     P1     PE     Q1    NaN  \n",
       "2     A1     P1    NaN    NaN    NaN  \n",
       "3     A1     P1    NaN    NaN    NaN  \n",
       "4     A1     GS     P1     PE     Q2  "
      ],
      "text/html": [
       "<div>\n",
       "<style scoped>\n",
       "    .dataframe tbody tr th:only-of-type {\n",
       "        vertical-align: middle;\n",
       "    }\n",
       "\n",
       "    .dataframe tbody tr th {\n",
       "        vertical-align: top;\n",
       "    }\n",
       "\n",
       "    .dataframe thead th {\n",
       "        text-align: right;\n",
       "    }\n",
       "</style>\n",
       "<table border=\"1\" class=\"dataframe\">\n",
       "  <thead>\n",
       "    <tr style=\"text-align: right;\">\n",
       "      <th></th>\n",
       "      <th>flare</th>\n",
       "      <th>start.date</th>\n",
       "      <th>start.time</th>\n",
       "      <th>peak</th>\n",
       "      <th>end</th>\n",
       "      <th>duration.s</th>\n",
       "      <th>peak.c/s</th>\n",
       "      <th>total.counts</th>\n",
       "      <th>energy.kev</th>\n",
       "      <th>x.pos.asec</th>\n",
       "      <th>y.pos.asec</th>\n",
       "      <th>radial</th>\n",
       "      <th>active.region.ar</th>\n",
       "      <th>flag.1</th>\n",
       "      <th>flag.2</th>\n",
       "      <th>flag.3</th>\n",
       "      <th>flag.4</th>\n",
       "      <th>flag.5</th>\n",
       "    </tr>\n",
       "  </thead>\n",
       "  <tbody>\n",
       "    <tr>\n",
       "      <th>0</th>\n",
       "      <td>2021213</td>\n",
       "      <td>2002-02-12</td>\n",
       "      <td>21:29:56</td>\n",
       "      <td>21:33:38</td>\n",
       "      <td>21:41:48</td>\n",
       "      <td>712</td>\n",
       "      <td>136</td>\n",
       "      <td>167304.0</td>\n",
       "      <td>12-25</td>\n",
       "      <td>592</td>\n",
       "      <td>-358</td>\n",
       "      <td>692</td>\n",
       "      <td>0</td>\n",
       "      <td>A1</td>\n",
       "      <td>P1</td>\n",
       "      <td>NaN</td>\n",
       "      <td>NaN</td>\n",
       "      <td>NaN</td>\n",
       "    </tr>\n",
       "    <tr>\n",
       "      <th>1</th>\n",
       "      <td>2021228</td>\n",
       "      <td>2002-02-12</td>\n",
       "      <td>21:44:08</td>\n",
       "      <td>21:45:06</td>\n",
       "      <td>21:48:56</td>\n",
       "      <td>288</td>\n",
       "      <td>7</td>\n",
       "      <td>9504.0</td>\n",
       "      <td>6-12</td>\n",
       "      <td>604</td>\n",
       "      <td>-341</td>\n",
       "      <td>694</td>\n",
       "      <td>9811</td>\n",
       "      <td>A1</td>\n",
       "      <td>P1</td>\n",
       "      <td>PE</td>\n",
       "      <td>Q1</td>\n",
       "      <td>NaN</td>\n",
       "    </tr>\n",
       "    <tr>\n",
       "      <th>2</th>\n",
       "      <td>2021332</td>\n",
       "      <td>2002-02-13</td>\n",
       "      <td>00:53:24</td>\n",
       "      <td>00:54:54</td>\n",
       "      <td>00:57:00</td>\n",
       "      <td>216</td>\n",
       "      <td>15</td>\n",
       "      <td>11448.0</td>\n",
       "      <td>6-12</td>\n",
       "      <td>-310</td>\n",
       "      <td>375</td>\n",
       "      <td>487</td>\n",
       "      <td>9825</td>\n",
       "      <td>A1</td>\n",
       "      <td>P1</td>\n",
       "      <td>NaN</td>\n",
       "      <td>NaN</td>\n",
       "      <td>NaN</td>\n",
       "    </tr>\n",
       "    <tr>\n",
       "      <th>3</th>\n",
       "      <td>2021308</td>\n",
       "      <td>2002-02-13</td>\n",
       "      <td>04:22:52</td>\n",
       "      <td>04:23:50</td>\n",
       "      <td>04:26:56</td>\n",
       "      <td>244</td>\n",
       "      <td>20</td>\n",
       "      <td>17400.0</td>\n",
       "      <td>12-25</td>\n",
       "      <td>-277</td>\n",
       "      <td>378</td>\n",
       "      <td>469</td>\n",
       "      <td>9822</td>\n",
       "      <td>A1</td>\n",
       "      <td>P1</td>\n",
       "      <td>NaN</td>\n",
       "      <td>NaN</td>\n",
       "      <td>NaN</td>\n",
       "    </tr>\n",
       "    <tr>\n",
       "      <th>4</th>\n",
       "      <td>2021310</td>\n",
       "      <td>2002-02-13</td>\n",
       "      <td>07:03:52</td>\n",
       "      <td>07:05:14</td>\n",
       "      <td>07:07:48</td>\n",
       "      <td>236</td>\n",
       "      <td>336</td>\n",
       "      <td>313392.0</td>\n",
       "      <td>25-50</td>\n",
       "      <td>-272</td>\n",
       "      <td>390</td>\n",
       "      <td>476</td>\n",
       "      <td>9825</td>\n",
       "      <td>A1</td>\n",
       "      <td>GS</td>\n",
       "      <td>P1</td>\n",
       "      <td>PE</td>\n",
       "      <td>Q2</td>\n",
       "    </tr>\n",
       "  </tbody>\n",
       "</table>\n",
       "</div>"
      ]
     },
     "execution_count": 7,
     "metadata": {},
     "output_type": "execute_result"
    }
   ],
   "execution_count": 7
  },
  {
   "metadata": {
    "ExecuteTime": {
     "end_time": "2024-11-02T16:23:25.801387Z",
     "start_time": "2024-11-02T16:23:25.676016Z"
    }
   },
   "cell_type": "code",
   "source": "df.info()",
   "id": "479eb740c557f21d",
   "outputs": [
    {
     "name": "stdout",
     "output_type": "stream",
     "text": [
      "<class 'pandas.core.frame.DataFrame'>\n",
      "RangeIndex: 116143 entries, 0 to 116142\n",
      "Data columns (total 18 columns):\n",
      " #   Column            Non-Null Count   Dtype  \n",
      "---  ------            --------------   -----  \n",
      " 0   flare             116143 non-null  int64  \n",
      " 1   start.date        116143 non-null  object \n",
      " 2   start.time        116143 non-null  object \n",
      " 3   peak              116143 non-null  object \n",
      " 4   end               116143 non-null  object \n",
      " 5   duration.s        116143 non-null  int64  \n",
      " 6   peak.c/s          116143 non-null  int64  \n",
      " 7   total.counts      116143 non-null  float64\n",
      " 8   energy.kev        116143 non-null  object \n",
      " 9   x.pos.asec        116143 non-null  int64  \n",
      " 10  y.pos.asec        116143 non-null  int64  \n",
      " 11  radial            116143 non-null  int64  \n",
      " 12  active.region.ar  116143 non-null  int64  \n",
      " 13  flag.1            116143 non-null  object \n",
      " 14  flag.2            116143 non-null  object \n",
      " 15  flag.3            96236 non-null   object \n",
      " 16  flag.4            95941 non-null   object \n",
      " 17  flag.5            54963 non-null   object \n",
      "dtypes: float64(1), int64(7), object(10)\n",
      "memory usage: 15.9+ MB\n"
     ]
    }
   ],
   "execution_count": 8
  },
  {
   "metadata": {
    "ExecuteTime": {
     "end_time": "2024-11-02T16:23:36.424481Z",
     "start_time": "2024-11-02T16:23:36.314640Z"
    }
   },
   "cell_type": "code",
   "source": "df.isnull().sum()",
   "id": "d30a0b142a4487a9",
   "outputs": [
    {
     "data": {
      "text/plain": [
       "flare                   0\n",
       "start.date              0\n",
       "start.time              0\n",
       "peak                    0\n",
       "end                     0\n",
       "duration.s              0\n",
       "peak.c/s                0\n",
       "total.counts            0\n",
       "energy.kev              0\n",
       "x.pos.asec              0\n",
       "y.pos.asec              0\n",
       "radial                  0\n",
       "active.region.ar        0\n",
       "flag.1                  0\n",
       "flag.2                  0\n",
       "flag.3              19907\n",
       "flag.4              20202\n",
       "flag.5              61180\n",
       "dtype: int64"
      ]
     },
     "execution_count": 11,
     "metadata": {},
     "output_type": "execute_result"
    }
   ],
   "execution_count": 11
  },
  {
   "metadata": {
    "ExecuteTime": {
     "end_time": "2024-11-02T16:29:44.128201Z",
     "start_time": "2024-11-02T16:29:44.107215Z"
    }
   },
   "cell_type": "code",
   "source": "df = df.drop(['flare','flag.1','flag.2','flag.3', 'flag.4', 'flag.5'], axis=1)",
   "id": "1a23b55ee2c962bd",
   "outputs": [],
   "execution_count": 16
  },
  {
   "metadata": {},
   "cell_type": "code",
   "outputs": [],
   "execution_count": null,
   "source": "",
   "id": "58ff66918d161b3e"
  }
 ],
 "metadata": {
  "kernelspec": {
   "display_name": "Python 3",
   "language": "python",
   "name": "python3"
  },
  "language_info": {
   "codemirror_mode": {
    "name": "ipython",
    "version": 2
   },
   "file_extension": ".py",
   "mimetype": "text/x-python",
   "name": "python",
   "nbconvert_exporter": "python",
   "pygments_lexer": "ipython2",
   "version": "2.7.6"
  }
 },
 "nbformat": 4,
 "nbformat_minor": 5
}
