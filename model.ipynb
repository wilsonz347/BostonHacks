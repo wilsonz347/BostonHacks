{
 "cells": [
  {
   "cell_type": "code",
   "execution_count": 263,
   "id": "initial_id",
   "metadata": {
    "ExecuteTime": {
     "end_time": "2024-11-03T00:34:18.126699Z",
     "start_time": "2024-11-03T00:34:18.118564Z"
    },
    "collapsed": true
   },
   "outputs": [],
   "source": [
    "import pandas as pd\n",
    "from sklearn.preprocessing import StandardScaler\n",
    "from sklearn.model_selection import train_test_split\n",
    "from sklearn.neighbors import KNeighborsRegressor\n",
    "from sklearn.metrics import mean_squared_error\n",
    "import numpy as np\n",
    "import pickle"
   ]
  },
  {
   "cell_type": "code",
   "execution_count": 264,
   "id": "c0d56c8b3d5be972",
   "metadata": {
    "ExecuteTime": {
     "end_time": "2024-11-03T00:34:18.510691Z",
     "start_time": "2024-11-03T00:34:18.153712Z"
    }
   },
   "outputs": [
    {
     "data": {
      "text/html": [
       "<div>\n",
       "<style scoped>\n",
       "    .dataframe tbody tr th:only-of-type {\n",
       "        vertical-align: middle;\n",
       "    }\n",
       "\n",
       "    .dataframe tbody tr th {\n",
       "        vertical-align: top;\n",
       "    }\n",
       "\n",
       "    .dataframe thead th {\n",
       "        text-align: right;\n",
       "    }\n",
       "</style>\n",
       "<table border=\"1\" class=\"dataframe\">\n",
       "  <thead>\n",
       "    <tr style=\"text-align: right;\">\n",
       "      <th></th>\n",
       "      <th>flare</th>\n",
       "      <th>start.date</th>\n",
       "      <th>start.time</th>\n",
       "      <th>peak</th>\n",
       "      <th>end</th>\n",
       "      <th>duration.s</th>\n",
       "      <th>peak.c/s</th>\n",
       "      <th>total.counts</th>\n",
       "      <th>energy.kev</th>\n",
       "      <th>x.pos.asec</th>\n",
       "      <th>y.pos.asec</th>\n",
       "      <th>radial</th>\n",
       "      <th>active.region.ar</th>\n",
       "      <th>flag.1</th>\n",
       "      <th>flag.2</th>\n",
       "      <th>flag.3</th>\n",
       "      <th>flag.4</th>\n",
       "      <th>flag.5</th>\n",
       "    </tr>\n",
       "  </thead>\n",
       "  <tbody>\n",
       "    <tr>\n",
       "      <th>0</th>\n",
       "      <td>2021213</td>\n",
       "      <td>2002-02-12</td>\n",
       "      <td>21:29:56</td>\n",
       "      <td>21:33:38</td>\n",
       "      <td>21:41:48</td>\n",
       "      <td>712</td>\n",
       "      <td>136</td>\n",
       "      <td>167304.0</td>\n",
       "      <td>12-25</td>\n",
       "      <td>592</td>\n",
       "      <td>-358</td>\n",
       "      <td>692</td>\n",
       "      <td>0</td>\n",
       "      <td>A1</td>\n",
       "      <td>P1</td>\n",
       "      <td>NaN</td>\n",
       "      <td>NaN</td>\n",
       "      <td>NaN</td>\n",
       "    </tr>\n",
       "    <tr>\n",
       "      <th>1</th>\n",
       "      <td>2021228</td>\n",
       "      <td>2002-02-12</td>\n",
       "      <td>21:44:08</td>\n",
       "      <td>21:45:06</td>\n",
       "      <td>21:48:56</td>\n",
       "      <td>288</td>\n",
       "      <td>7</td>\n",
       "      <td>9504.0</td>\n",
       "      <td>6-12</td>\n",
       "      <td>604</td>\n",
       "      <td>-341</td>\n",
       "      <td>694</td>\n",
       "      <td>9811</td>\n",
       "      <td>A1</td>\n",
       "      <td>P1</td>\n",
       "      <td>PE</td>\n",
       "      <td>Q1</td>\n",
       "      <td>NaN</td>\n",
       "    </tr>\n",
       "    <tr>\n",
       "      <th>2</th>\n",
       "      <td>2021332</td>\n",
       "      <td>2002-02-13</td>\n",
       "      <td>00:53:24</td>\n",
       "      <td>00:54:54</td>\n",
       "      <td>00:57:00</td>\n",
       "      <td>216</td>\n",
       "      <td>15</td>\n",
       "      <td>11448.0</td>\n",
       "      <td>6-12</td>\n",
       "      <td>-310</td>\n",
       "      <td>375</td>\n",
       "      <td>487</td>\n",
       "      <td>9825</td>\n",
       "      <td>A1</td>\n",
       "      <td>P1</td>\n",
       "      <td>NaN</td>\n",
       "      <td>NaN</td>\n",
       "      <td>NaN</td>\n",
       "    </tr>\n",
       "    <tr>\n",
       "      <th>3</th>\n",
       "      <td>2021308</td>\n",
       "      <td>2002-02-13</td>\n",
       "      <td>04:22:52</td>\n",
       "      <td>04:23:50</td>\n",
       "      <td>04:26:56</td>\n",
       "      <td>244</td>\n",
       "      <td>20</td>\n",
       "      <td>17400.0</td>\n",
       "      <td>12-25</td>\n",
       "      <td>-277</td>\n",
       "      <td>378</td>\n",
       "      <td>469</td>\n",
       "      <td>9822</td>\n",
       "      <td>A1</td>\n",
       "      <td>P1</td>\n",
       "      <td>NaN</td>\n",
       "      <td>NaN</td>\n",
       "      <td>NaN</td>\n",
       "    </tr>\n",
       "    <tr>\n",
       "      <th>4</th>\n",
       "      <td>2021310</td>\n",
       "      <td>2002-02-13</td>\n",
       "      <td>07:03:52</td>\n",
       "      <td>07:05:14</td>\n",
       "      <td>07:07:48</td>\n",
       "      <td>236</td>\n",
       "      <td>336</td>\n",
       "      <td>313392.0</td>\n",
       "      <td>25-50</td>\n",
       "      <td>-272</td>\n",
       "      <td>390</td>\n",
       "      <td>476</td>\n",
       "      <td>9825</td>\n",
       "      <td>A1</td>\n",
       "      <td>GS</td>\n",
       "      <td>P1</td>\n",
       "      <td>PE</td>\n",
       "      <td>Q2</td>\n",
       "    </tr>\n",
       "  </tbody>\n",
       "</table>\n",
       "</div>"
      ],
      "text/plain": [
       "     flare  start.date start.time      peak       end  duration.s  peak.c/s  \\\n",
       "0  2021213  2002-02-12   21:29:56  21:33:38  21:41:48         712       136   \n",
       "1  2021228  2002-02-12   21:44:08  21:45:06  21:48:56         288         7   \n",
       "2  2021332  2002-02-13   00:53:24  00:54:54  00:57:00         216        15   \n",
       "3  2021308  2002-02-13   04:22:52  04:23:50  04:26:56         244        20   \n",
       "4  2021310  2002-02-13   07:03:52  07:05:14  07:07:48         236       336   \n",
       "\n",
       "   total.counts energy.kev  x.pos.asec  y.pos.asec  radial  active.region.ar  \\\n",
       "0      167304.0      12-25         592        -358     692                 0   \n",
       "1        9504.0       6-12         604        -341     694              9811   \n",
       "2       11448.0       6-12        -310         375     487              9825   \n",
       "3       17400.0      12-25        -277         378     469              9822   \n",
       "4      313392.0      25-50        -272         390     476              9825   \n",
       "\n",
       "  flag.1 flag.2 flag.3 flag.4 flag.5  \n",
       "0     A1     P1    NaN    NaN    NaN  \n",
       "1     A1     P1     PE     Q1    NaN  \n",
       "2     A1     P1    NaN    NaN    NaN  \n",
       "3     A1     P1    NaN    NaN    NaN  \n",
       "4     A1     GS     P1     PE     Q2  "
      ]
     },
     "execution_count": 264,
     "metadata": {},
     "output_type": "execute_result"
    }
   ],
   "source": [
    "df = pd.read_csv('solar_flare.csv')\n",
    "df.head()"
   ]
  },
  {
   "cell_type": "code",
   "execution_count": 265,
   "id": "479eb740c557f21d",
   "metadata": {
    "ExecuteTime": {
     "end_time": "2024-11-03T00:34:18.674122Z",
     "start_time": "2024-11-03T00:34:18.597500Z"
    }
   },
   "outputs": [
    {
     "name": "stdout",
     "output_type": "stream",
     "text": [
      "<class 'pandas.core.frame.DataFrame'>\n",
      "RangeIndex: 116143 entries, 0 to 116142\n",
      "Data columns (total 18 columns):\n",
      " #   Column            Non-Null Count   Dtype  \n",
      "---  ------            --------------   -----  \n",
      " 0   flare             116143 non-null  int64  \n",
      " 1   start.date        116143 non-null  object \n",
      " 2   start.time        116143 non-null  object \n",
      " 3   peak              116143 non-null  object \n",
      " 4   end               116143 non-null  object \n",
      " 5   duration.s        116143 non-null  int64  \n",
      " 6   peak.c/s          116143 non-null  int64  \n",
      " 7   total.counts      116143 non-null  float64\n",
      " 8   energy.kev        116143 non-null  object \n",
      " 9   x.pos.asec        116143 non-null  int64  \n",
      " 10  y.pos.asec        116143 non-null  int64  \n",
      " 11  radial            116143 non-null  int64  \n",
      " 12  active.region.ar  116143 non-null  int64  \n",
      " 13  flag.1            116143 non-null  object \n",
      " 14  flag.2            116143 non-null  object \n",
      " 15  flag.3            96236 non-null   object \n",
      " 16  flag.4            95941 non-null   object \n",
      " 17  flag.5            54963 non-null   object \n",
      "dtypes: float64(1), int64(7), object(10)\n",
      "memory usage: 15.9+ MB\n"
     ]
    }
   ],
   "source": [
    "df.info()"
   ]
  },
  {
   "cell_type": "code",
   "execution_count": 266,
   "id": "d30a0b142a4487a9",
   "metadata": {
    "ExecuteTime": {
     "end_time": "2024-11-03T00:34:18.840692Z",
     "start_time": "2024-11-03T00:34:18.759824Z"
    }
   },
   "outputs": [
    {
     "data": {
      "text/plain": [
       "flare                   0\n",
       "start.date              0\n",
       "start.time              0\n",
       "peak                    0\n",
       "end                     0\n",
       "duration.s              0\n",
       "peak.c/s                0\n",
       "total.counts            0\n",
       "energy.kev              0\n",
       "x.pos.asec              0\n",
       "y.pos.asec              0\n",
       "radial                  0\n",
       "active.region.ar        0\n",
       "flag.1                  0\n",
       "flag.2                  0\n",
       "flag.3              19907\n",
       "flag.4              20202\n",
       "flag.5              61180\n",
       "dtype: int64"
      ]
     },
     "execution_count": 266,
     "metadata": {},
     "output_type": "execute_result"
    }
   ],
   "source": [
    "df.isnull().sum()"
   ]
  },
  {
   "cell_type": "code",
   "execution_count": 267,
   "id": "1a23b55ee2c962bd",
   "metadata": {
    "ExecuteTime": {
     "end_time": "2024-11-03T00:34:19.012847Z",
     "start_time": "2024-11-03T00:34:18.994018Z"
    }
   },
   "outputs": [],
   "source": [
    "df = df.drop(['flare','flag.1','flag.2','flag.3', 'flag.4', 'flag.5'], axis=1)"
   ]
  },
  {
   "cell_type": "code",
   "execution_count": 268,
   "id": "9d55f9ab52a3ed97",
   "metadata": {
    "ExecuteTime": {
     "end_time": "2024-11-03T00:34:19.235141Z",
     "start_time": "2024-11-03T00:34:19.148761Z"
    }
   },
   "outputs": [
    {
     "name": "stdout",
     "output_type": "stream",
     "text": [
      "<class 'pandas.core.frame.DataFrame'>\n",
      "RangeIndex: 116143 entries, 0 to 116142\n",
      "Data columns (total 12 columns):\n",
      " #   Column            Non-Null Count   Dtype  \n",
      "---  ------            --------------   -----  \n",
      " 0   start.date        116143 non-null  object \n",
      " 1   start.time        116143 non-null  object \n",
      " 2   peak              116143 non-null  object \n",
      " 3   end               116143 non-null  object \n",
      " 4   duration.s        116143 non-null  int64  \n",
      " 5   peak.c/s          116143 non-null  int64  \n",
      " 6   total.counts      116143 non-null  float64\n",
      " 7   energy.kev        116143 non-null  object \n",
      " 8   x.pos.asec        116143 non-null  int64  \n",
      " 9   y.pos.asec        116143 non-null  int64  \n",
      " 10  radial            116143 non-null  int64  \n",
      " 11  active.region.ar  116143 non-null  int64  \n",
      "dtypes: float64(1), int64(6), object(5)\n",
      "memory usage: 10.6+ MB\n"
     ]
    }
   ],
   "source": [
    "df.info()"
   ]
  },
  {
   "cell_type": "code",
   "execution_count": 269,
   "id": "7aa5421036e5d942",
   "metadata": {
    "ExecuteTime": {
     "end_time": "2024-11-03T00:34:20.243422Z",
     "start_time": "2024-11-03T00:34:19.396027Z"
    }
   },
   "outputs": [
    {
     "data": {
      "text/html": [
       "<div>\n",
       "<style scoped>\n",
       "    .dataframe tbody tr th:only-of-type {\n",
       "        vertical-align: middle;\n",
       "    }\n",
       "\n",
       "    .dataframe tbody tr th {\n",
       "        vertical-align: top;\n",
       "    }\n",
       "\n",
       "    .dataframe thead th {\n",
       "        text-align: right;\n",
       "    }\n",
       "</style>\n",
       "<table border=\"1\" class=\"dataframe\">\n",
       "  <thead>\n",
       "    <tr style=\"text-align: right;\">\n",
       "      <th></th>\n",
       "      <th>start.date</th>\n",
       "      <th>start.time</th>\n",
       "      <th>peak</th>\n",
       "      <th>end</th>\n",
       "      <th>duration.s</th>\n",
       "      <th>peak.c/s</th>\n",
       "      <th>total.counts</th>\n",
       "      <th>energy.kev</th>\n",
       "      <th>x.pos.asec</th>\n",
       "      <th>y.pos.asec</th>\n",
       "      <th>radial</th>\n",
       "      <th>active.region.ar</th>\n",
       "    </tr>\n",
       "  </thead>\n",
       "  <tbody>\n",
       "    <tr>\n",
       "      <th>0</th>\n",
       "      <td>2002-02-12</td>\n",
       "      <td>2002-02-12 21:29:56</td>\n",
       "      <td>2002-02-12 21:33:38</td>\n",
       "      <td>2002-02-12 21:41:48</td>\n",
       "      <td>712</td>\n",
       "      <td>136</td>\n",
       "      <td>167304.0</td>\n",
       "      <td>12-25</td>\n",
       "      <td>592</td>\n",
       "      <td>-358</td>\n",
       "      <td>692</td>\n",
       "      <td>0</td>\n",
       "    </tr>\n",
       "    <tr>\n",
       "      <th>1</th>\n",
       "      <td>2002-02-12</td>\n",
       "      <td>2002-02-12 21:44:08</td>\n",
       "      <td>2002-02-12 21:45:06</td>\n",
       "      <td>2002-02-12 21:48:56</td>\n",
       "      <td>288</td>\n",
       "      <td>7</td>\n",
       "      <td>9504.0</td>\n",
       "      <td>6-12</td>\n",
       "      <td>604</td>\n",
       "      <td>-341</td>\n",
       "      <td>694</td>\n",
       "      <td>9811</td>\n",
       "    </tr>\n",
       "    <tr>\n",
       "      <th>2</th>\n",
       "      <td>2002-02-13</td>\n",
       "      <td>2002-02-13 00:53:24</td>\n",
       "      <td>2002-02-13 00:54:54</td>\n",
       "      <td>2002-02-13 00:57:00</td>\n",
       "      <td>216</td>\n",
       "      <td>15</td>\n",
       "      <td>11448.0</td>\n",
       "      <td>6-12</td>\n",
       "      <td>-310</td>\n",
       "      <td>375</td>\n",
       "      <td>487</td>\n",
       "      <td>9825</td>\n",
       "    </tr>\n",
       "    <tr>\n",
       "      <th>3</th>\n",
       "      <td>2002-02-13</td>\n",
       "      <td>2002-02-13 04:22:52</td>\n",
       "      <td>2002-02-13 04:23:50</td>\n",
       "      <td>2002-02-13 04:26:56</td>\n",
       "      <td>244</td>\n",
       "      <td>20</td>\n",
       "      <td>17400.0</td>\n",
       "      <td>12-25</td>\n",
       "      <td>-277</td>\n",
       "      <td>378</td>\n",
       "      <td>469</td>\n",
       "      <td>9822</td>\n",
       "    </tr>\n",
       "    <tr>\n",
       "      <th>4</th>\n",
       "      <td>2002-02-13</td>\n",
       "      <td>2002-02-13 07:03:52</td>\n",
       "      <td>2002-02-13 07:05:14</td>\n",
       "      <td>2002-02-13 07:07:48</td>\n",
       "      <td>236</td>\n",
       "      <td>336</td>\n",
       "      <td>313392.0</td>\n",
       "      <td>25-50</td>\n",
       "      <td>-272</td>\n",
       "      <td>390</td>\n",
       "      <td>476</td>\n",
       "      <td>9825</td>\n",
       "    </tr>\n",
       "  </tbody>\n",
       "</table>\n",
       "</div>"
      ],
      "text/plain": [
       "   start.date          start.time                peak                 end  \\\n",
       "0  2002-02-12 2002-02-12 21:29:56 2002-02-12 21:33:38 2002-02-12 21:41:48   \n",
       "1  2002-02-12 2002-02-12 21:44:08 2002-02-12 21:45:06 2002-02-12 21:48:56   \n",
       "2  2002-02-13 2002-02-13 00:53:24 2002-02-13 00:54:54 2002-02-13 00:57:00   \n",
       "3  2002-02-13 2002-02-13 04:22:52 2002-02-13 04:23:50 2002-02-13 04:26:56   \n",
       "4  2002-02-13 2002-02-13 07:03:52 2002-02-13 07:05:14 2002-02-13 07:07:48   \n",
       "\n",
       "   duration.s  peak.c/s  total.counts energy.kev  x.pos.asec  y.pos.asec  \\\n",
       "0         712       136      167304.0      12-25         592        -358   \n",
       "1         288         7        9504.0       6-12         604        -341   \n",
       "2         216        15       11448.0       6-12        -310         375   \n",
       "3         244        20       17400.0      12-25        -277         378   \n",
       "4         236       336      313392.0      25-50        -272         390   \n",
       "\n",
       "   radial  active.region.ar  \n",
       "0     692                 0  \n",
       "1     694              9811  \n",
       "2     487              9825  \n",
       "3     469              9822  \n",
       "4     476              9825  "
      ]
     },
     "execution_count": 269,
     "metadata": {},
     "output_type": "execute_result"
    }
   ],
   "source": [
    "df['start.time'] = pd.to_datetime(df['start.date'] + ' ' + df['start.time'])\n",
    "df['peak'] = pd.to_datetime(df['start.date'] + ' ' + df['peak'])\n",
    "df['end'] = pd.to_datetime(df['start.date'] + ' ' + df['end'])\n",
    "df.head()"
   ]
  },
  {
   "cell_type": "code",
   "execution_count": 270,
   "id": "c657fec5e49ee353",
   "metadata": {
    "ExecuteTime": {
     "end_time": "2024-11-03T00:34:20.395710Z",
     "start_time": "2024-11-03T00:34:20.371183Z"
    }
   },
   "outputs": [],
   "source": [
    "df = df.drop('start.date', axis=1)"
   ]
  },
  {
   "cell_type": "code",
   "execution_count": 271,
   "id": "7e229704f8177f06",
   "metadata": {
    "ExecuteTime": {
     "end_time": "2024-11-03T00:34:20.503901Z",
     "start_time": "2024-11-03T00:34:20.459863Z"
    }
   },
   "outputs": [
    {
     "name": "stdout",
     "output_type": "stream",
     "text": [
      "<class 'pandas.core.frame.DataFrame'>\n",
      "Index: 63960 entries, 52183 to 116142\n",
      "Data columns (total 11 columns):\n",
      " #   Column            Non-Null Count  Dtype         \n",
      "---  ------            --------------  -----         \n",
      " 0   start.time        63960 non-null  datetime64[ns]\n",
      " 1   peak              63960 non-null  datetime64[ns]\n",
      " 2   end               63960 non-null  datetime64[ns]\n",
      " 3   duration.s        63960 non-null  int64         \n",
      " 4   peak.c/s          63960 non-null  int64         \n",
      " 5   total.counts      63960 non-null  float64       \n",
      " 6   energy.kev        63960 non-null  object        \n",
      " 7   x.pos.asec        63960 non-null  int64         \n",
      " 8   y.pos.asec        63960 non-null  int64         \n",
      " 9   radial            63960 non-null  int64         \n",
      " 10  active.region.ar  63960 non-null  int64         \n",
      "dtypes: datetime64[ns](3), float64(1), int64(6), object(1)\n",
      "memory usage: 5.9+ MB\n"
     ]
    }
   ],
   "source": [
    "df = df[df['start.time'] > '2010-12-31 23:59:59']\n",
    "df.info()"
   ]
  },
  {
   "cell_type": "code",
   "execution_count": 272,
   "id": "23e5298fbfa6f191",
   "metadata": {
    "ExecuteTime": {
     "end_time": "2024-11-03T00:34:20.811044Z",
     "start_time": "2024-11-03T00:34:20.581516Z"
    }
   },
   "outputs": [],
   "source": [
    "# Split the column and convert to eV\n",
    "df[['energy_low_ev', 'energy_high_ev']] = df['energy.kev'].str.split('-', expand=True).astype(float) * 1000\n",
    "\n",
    "# Convert to integer\n",
    "df['energy_low_ev'] = df['energy_low_ev'].astype(int)\n",
    "df['energy_high_ev'] = df['energy_high_ev'].astype(int)\n",
    "df = df.drop('energy.kev', axis=1)"
   ]
  },
  {
   "cell_type": "code",
   "execution_count": 273,
   "id": "524b679eb60d8a0f",
   "metadata": {
    "ExecuteTime": {
     "end_time": "2024-11-03T00:34:20.959484Z",
     "start_time": "2024-11-03T00:34:20.925387Z"
    }
   },
   "outputs": [
    {
     "data": {
      "text/html": [
       "<div>\n",
       "<style scoped>\n",
       "    .dataframe tbody tr th:only-of-type {\n",
       "        vertical-align: middle;\n",
       "    }\n",
       "\n",
       "    .dataframe tbody tr th {\n",
       "        vertical-align: top;\n",
       "    }\n",
       "\n",
       "    .dataframe thead th {\n",
       "        text-align: right;\n",
       "    }\n",
       "</style>\n",
       "<table border=\"1\" class=\"dataframe\">\n",
       "  <thead>\n",
       "    <tr style=\"text-align: right;\">\n",
       "      <th></th>\n",
       "      <th>start.time</th>\n",
       "      <th>peak</th>\n",
       "      <th>end</th>\n",
       "      <th>duration.s</th>\n",
       "      <th>peak.c/s</th>\n",
       "      <th>total.counts</th>\n",
       "      <th>x.pos.asec</th>\n",
       "      <th>y.pos.asec</th>\n",
       "      <th>radial</th>\n",
       "      <th>active.region.ar</th>\n",
       "      <th>energy_low_ev</th>\n",
       "      <th>energy_high_ev</th>\n",
       "    </tr>\n",
       "  </thead>\n",
       "  <tbody>\n",
       "    <tr>\n",
       "      <th>52183</th>\n",
       "      <td>2011-01-01 00:48:52</td>\n",
       "      <td>2011-01-01 00:51:22</td>\n",
       "      <td>2011-01-01 00:55:44</td>\n",
       "      <td>412</td>\n",
       "      <td>68</td>\n",
       "      <td>94032.0</td>\n",
       "      <td>-786</td>\n",
       "      <td>515</td>\n",
       "      <td>940</td>\n",
       "      <td>1140</td>\n",
       "      <td>6000</td>\n",
       "      <td>12000</td>\n",
       "    </tr>\n",
       "    <tr>\n",
       "      <th>52184</th>\n",
       "      <td>2011-01-01 02:58:40</td>\n",
       "      <td>2011-01-01 02:59:22</td>\n",
       "      <td>2011-01-01 03:00:48</td>\n",
       "      <td>128</td>\n",
       "      <td>36</td>\n",
       "      <td>20376.0</td>\n",
       "      <td>902</td>\n",
       "      <td>244</td>\n",
       "      <td>935</td>\n",
       "      <td>1138</td>\n",
       "      <td>6000</td>\n",
       "      <td>12000</td>\n",
       "    </tr>\n",
       "    <tr>\n",
       "      <th>52185</th>\n",
       "      <td>2011-01-01 05:41:04</td>\n",
       "      <td>2011-01-01 05:41:50</td>\n",
       "      <td>2011-01-01 05:44:20</td>\n",
       "      <td>196</td>\n",
       "      <td>28</td>\n",
       "      <td>25776.0</td>\n",
       "      <td>904</td>\n",
       "      <td>238</td>\n",
       "      <td>935</td>\n",
       "      <td>1138</td>\n",
       "      <td>6000</td>\n",
       "      <td>12000</td>\n",
       "    </tr>\n",
       "    <tr>\n",
       "      <th>52186</th>\n",
       "      <td>2011-01-01 05:50:28</td>\n",
       "      <td>2011-01-01 05:56:06</td>\n",
       "      <td>2011-01-01 06:01:44</td>\n",
       "      <td>676</td>\n",
       "      <td>34</td>\n",
       "      <td>94416.0</td>\n",
       "      <td>-739</td>\n",
       "      <td>565</td>\n",
       "      <td>930</td>\n",
       "      <td>1140</td>\n",
       "      <td>6000</td>\n",
       "      <td>12000</td>\n",
       "    </tr>\n",
       "    <tr>\n",
       "      <th>52187</th>\n",
       "      <td>2011-01-01 12:01:04</td>\n",
       "      <td>2011-01-01 12:01:38</td>\n",
       "      <td>2011-01-01 12:02:32</td>\n",
       "      <td>88</td>\n",
       "      <td>28</td>\n",
       "      <td>9192.0</td>\n",
       "      <td>-619</td>\n",
       "      <td>-179</td>\n",
       "      <td>645</td>\n",
       "      <td>0</td>\n",
       "      <td>6000</td>\n",
       "      <td>12000</td>\n",
       "    </tr>\n",
       "    <tr>\n",
       "      <th>...</th>\n",
       "      <td>...</td>\n",
       "      <td>...</td>\n",
       "      <td>...</td>\n",
       "      <td>...</td>\n",
       "      <td>...</td>\n",
       "      <td>...</td>\n",
       "      <td>...</td>\n",
       "      <td>...</td>\n",
       "      <td>...</td>\n",
       "      <td>...</td>\n",
       "      <td>...</td>\n",
       "      <td>...</td>\n",
       "    </tr>\n",
       "    <tr>\n",
       "      <th>116138</th>\n",
       "      <td>2018-02-09 16:41:28</td>\n",
       "      <td>2018-02-09 16:42:54</td>\n",
       "      <td>2018-02-09 16:43:32</td>\n",
       "      <td>124</td>\n",
       "      <td>18</td>\n",
       "      <td>2888.0</td>\n",
       "      <td>-345</td>\n",
       "      <td>-38</td>\n",
       "      <td>347</td>\n",
       "      <td>2699</td>\n",
       "      <td>6000</td>\n",
       "      <td>12000</td>\n",
       "    </tr>\n",
       "    <tr>\n",
       "      <th>116139</th>\n",
       "      <td>2018-02-09 18:15:56</td>\n",
       "      <td>2018-02-09 18:17:26</td>\n",
       "      <td>2018-02-09 18:17:40</td>\n",
       "      <td>104</td>\n",
       "      <td>16</td>\n",
       "      <td>1656.0</td>\n",
       "      <td>-268</td>\n",
       "      <td>-38</td>\n",
       "      <td>271</td>\n",
       "      <td>2699</td>\n",
       "      <td>6000</td>\n",
       "      <td>12000</td>\n",
       "    </tr>\n",
       "    <tr>\n",
       "      <th>116140</th>\n",
       "      <td>2018-02-10 13:04:36</td>\n",
       "      <td>2018-02-10 13:06:46</td>\n",
       "      <td>2018-02-10 13:07:04</td>\n",
       "      <td>148</td>\n",
       "      <td>15</td>\n",
       "      <td>2224.0</td>\n",
       "      <td>-115</td>\n",
       "      <td>-38</td>\n",
       "      <td>121</td>\n",
       "      <td>2699</td>\n",
       "      <td>6000</td>\n",
       "      <td>12000</td>\n",
       "    </tr>\n",
       "    <tr>\n",
       "      <th>116141</th>\n",
       "      <td>2018-02-26 15:49:56</td>\n",
       "      <td>2018-02-26 15:51:18</td>\n",
       "      <td>2018-02-26 15:53:52</td>\n",
       "      <td>236</td>\n",
       "      <td>16</td>\n",
       "      <td>3312.0</td>\n",
       "      <td>115</td>\n",
       "      <td>192</td>\n",
       "      <td>223</td>\n",
       "      <td>2700</td>\n",
       "      <td>6000</td>\n",
       "      <td>12000</td>\n",
       "    </tr>\n",
       "    <tr>\n",
       "      <th>116142</th>\n",
       "      <td>2018-03-03 04:04:08</td>\n",
       "      <td>2018-03-03 04:06:22</td>\n",
       "      <td>2018-03-03 04:12:20</td>\n",
       "      <td>492</td>\n",
       "      <td>42</td>\n",
       "      <td>15816.0</td>\n",
       "      <td>926</td>\n",
       "      <td>128</td>\n",
       "      <td>935</td>\n",
       "      <td>2700</td>\n",
       "      <td>6000</td>\n",
       "      <td>12000</td>\n",
       "    </tr>\n",
       "  </tbody>\n",
       "</table>\n",
       "<p>63960 rows × 12 columns</p>\n",
       "</div>"
      ],
      "text/plain": [
       "                start.time                peak                 end  \\\n",
       "52183  2011-01-01 00:48:52 2011-01-01 00:51:22 2011-01-01 00:55:44   \n",
       "52184  2011-01-01 02:58:40 2011-01-01 02:59:22 2011-01-01 03:00:48   \n",
       "52185  2011-01-01 05:41:04 2011-01-01 05:41:50 2011-01-01 05:44:20   \n",
       "52186  2011-01-01 05:50:28 2011-01-01 05:56:06 2011-01-01 06:01:44   \n",
       "52187  2011-01-01 12:01:04 2011-01-01 12:01:38 2011-01-01 12:02:32   \n",
       "...                    ...                 ...                 ...   \n",
       "116138 2018-02-09 16:41:28 2018-02-09 16:42:54 2018-02-09 16:43:32   \n",
       "116139 2018-02-09 18:15:56 2018-02-09 18:17:26 2018-02-09 18:17:40   \n",
       "116140 2018-02-10 13:04:36 2018-02-10 13:06:46 2018-02-10 13:07:04   \n",
       "116141 2018-02-26 15:49:56 2018-02-26 15:51:18 2018-02-26 15:53:52   \n",
       "116142 2018-03-03 04:04:08 2018-03-03 04:06:22 2018-03-03 04:12:20   \n",
       "\n",
       "        duration.s  peak.c/s  total.counts  x.pos.asec  y.pos.asec  radial  \\\n",
       "52183          412        68       94032.0        -786         515     940   \n",
       "52184          128        36       20376.0         902         244     935   \n",
       "52185          196        28       25776.0         904         238     935   \n",
       "52186          676        34       94416.0        -739         565     930   \n",
       "52187           88        28        9192.0        -619        -179     645   \n",
       "...            ...       ...           ...         ...         ...     ...   \n",
       "116138         124        18        2888.0        -345         -38     347   \n",
       "116139         104        16        1656.0        -268         -38     271   \n",
       "116140         148        15        2224.0        -115         -38     121   \n",
       "116141         236        16        3312.0         115         192     223   \n",
       "116142         492        42       15816.0         926         128     935   \n",
       "\n",
       "        active.region.ar  energy_low_ev  energy_high_ev  \n",
       "52183               1140           6000           12000  \n",
       "52184               1138           6000           12000  \n",
       "52185               1138           6000           12000  \n",
       "52186               1140           6000           12000  \n",
       "52187                  0           6000           12000  \n",
       "...                  ...            ...             ...  \n",
       "116138              2699           6000           12000  \n",
       "116139              2699           6000           12000  \n",
       "116140              2699           6000           12000  \n",
       "116141              2700           6000           12000  \n",
       "116142              2700           6000           12000  \n",
       "\n",
       "[63960 rows x 12 columns]"
      ]
     },
     "execution_count": 273,
     "metadata": {},
     "output_type": "execute_result"
    }
   ],
   "source": [
    "df"
   ]
  },
  {
   "cell_type": "code",
   "execution_count": 274,
   "id": "4e38c78914b09f1f",
   "metadata": {
    "ExecuteTime": {
     "end_time": "2024-11-03T00:34:21.151996Z",
     "start_time": "2024-11-03T00:34:21.137638Z"
    }
   },
   "outputs": [
    {
     "data": {
      "text/plain": [
       "array([  6000,   3000,  12000,  25000,  50000, 100000, 300000])"
      ]
     },
     "execution_count": 274,
     "metadata": {},
     "output_type": "execute_result"
    }
   ],
   "source": [
    "df['energy_low_ev'].unique()"
   ]
  },
  {
   "cell_type": "code",
   "execution_count": 275,
   "id": "f89ef628ef604abb",
   "metadata": {
    "ExecuteTime": {
     "end_time": "2024-11-03T00:34:21.361179Z",
     "start_time": "2024-11-03T00:34:21.350158Z"
    }
   },
   "outputs": [],
   "source": [
    "# Clean the data\n",
    "def remove_outliers_iqr(df, columns):\n",
    "    df_cleaned = df.copy()\n",
    "    \n",
    "    for column in columns:\n",
    "        # Calculate Q1 (25th percentile) and Q3 (75th percentile)\n",
    "        Q1 = df_cleaned[column].quantile(0.25)\n",
    "        Q3 = df_cleaned[column].quantile(0.75)\n",
    "        IQR = Q3 - Q1  # Interquartile Range\n",
    "        \n",
    "        # Define bounds for outliers\n",
    "        lower_bound = Q1 - 1.5 * IQR\n",
    "        upper_bound = Q3 + 1.5 * IQR\n",
    "        \n",
    "        # Remove outliers\n",
    "        df_cleaned = df_cleaned[(df_cleaned[column] >= lower_bound) & (df_cleaned[column] <= upper_bound)]\n",
    "        \n",
    "    return df_cleaned"
   ]
  },
  {
   "cell_type": "code",
   "execution_count": 276,
   "id": "fda5b1ac4c08cf64",
   "metadata": {
    "ExecuteTime": {
     "end_time": "2024-11-03T00:34:21.673029Z",
     "start_time": "2024-11-03T00:34:21.517628Z"
    }
   },
   "outputs": [],
   "source": [
    "clean_parameters = df.drop(['start.time', 'peak','end'], axis=1)\n",
    "df_cleaned = remove_outliers_iqr(df, clean_parameters.columns)"
   ]
  },
  {
   "cell_type": "code",
   "execution_count": 277,
   "id": "3655fb4e21191755",
   "metadata": {
    "ExecuteTime": {
     "end_time": "2024-11-03T00:34:21.773902Z",
     "start_time": "2024-11-03T00:34:21.753670Z"
    }
   },
   "outputs": [],
   "source": [
    "# Split the data\n",
    "X = df_cleaned.drop(['start.time','peak','end','duration.s'], axis=1)\n",
    "y = df_cleaned[['duration.s']]\n",
    "\n",
    "X_train, X_test, y_train, y_test = train_test_split(X, y, test_size=0.2, random_state=42)"
   ]
  },
  {
   "cell_type": "code",
   "execution_count": 278,
   "id": "53b7d165bc89ae83",
   "metadata": {
    "ExecuteTime": {
     "end_time": "2024-11-03T00:34:21.876946Z",
     "start_time": "2024-11-03T00:34:21.842356Z"
    }
   },
   "outputs": [],
   "source": [
    "# Scale the training and testing data\n",
    "\n",
    "scaler = StandardScaler()\n",
    "X_train_scaled = scaler.fit_transform(X_train)\n",
    "X_test_scaled = scaler.transform(X_test)"
   ]
  },
  {
   "cell_type": "code",
   "execution_count": 279,
   "id": "eaa5b539af4be00a",
   "metadata": {
    "ExecuteTime": {
     "end_time": "2024-11-03T00:34:21.959816Z",
     "start_time": "2024-11-03T00:34:21.948084Z"
    }
   },
   "outputs": [
    {
     "data": {
      "text/plain": [
       "array([[ 3.55756492e+00,  2.80002338e+00,  1.31957600e+00, ...,\n",
       "        -1.39635807e+00,  0.00000000e+00,  0.00000000e+00],\n",
       "       [-4.51009880e-01, -1.03425959e+00,  1.11651915e+00, ...,\n",
       "         4.36102839e-01,  0.00000000e+00,  0.00000000e+00],\n",
       "       [-1.20261765e+00, -1.10715837e+00, -1.08769792e+00, ...,\n",
       "         1.14193963e+00,  0.00000000e+00,  0.00000000e+00],\n",
       "       ...,\n",
       "       [-4.51009880e-01,  1.29814507e-03,  1.28596659e+00, ...,\n",
       "         1.28559552e+00,  0.00000000e+00,  0.00000000e+00],\n",
       "       [ 4.76013736e+00,  1.41315507e+00,  1.65652955e-01, ...,\n",
       "        -7.97009723e-02,  0.00000000e+00,  0.00000000e+00],\n",
       "       [-4.00902695e-01, -8.41332758e-01,  5.85770568e-01, ...,\n",
       "         4.50807772e-01,  0.00000000e+00,  0.00000000e+00]])"
      ]
     },
     "execution_count": 279,
     "metadata": {},
     "output_type": "execute_result"
    }
   ],
   "source": [
    "X_train_scaled"
   ]
  },
  {
   "cell_type": "code",
   "execution_count": 280,
   "id": "d0d0cb35e1146053",
   "metadata": {
    "ExecuteTime": {
     "end_time": "2024-11-03T00:34:23.495874Z",
     "start_time": "2024-11-03T00:34:22.084760Z"
    }
   },
   "outputs": [
    {
     "name": "stdout",
     "output_type": "stream",
     "text": [
      "Training Root Mean Squared Error: 94.30\n",
      "[[716.        ]\n",
      " [ 62.66666667]\n",
      " [209.33333333]\n",
      " ...\n",
      " [314.66666667]\n",
      " [284.        ]\n",
      " [ 96.        ]]\n"
     ]
    }
   ],
   "source": [
    "knn = KNeighborsRegressor(n_neighbors=3)\n",
    "knn.fit(X_train_scaled, y_train)\n",
    "    \n",
    "# Make predictions on training data (for reference)\n",
    "train_predictions = knn.predict(X_train_scaled)\n",
    "\n",
    "# Make predictions on test data (for evaluation)\n",
    "test_predictions = knn.predict(X_test_scaled)\n",
    "\n",
    "# Evaluate performance on training data\n",
    "train_mse = mean_squared_error(y_train, train_predictions)\n",
    "train_rmse = np.sqrt(train_mse)\n",
    "print(f'Training Root Mean Squared Error: {train_rmse:.2f}')\n",
    "print(train_predictions)"
   ]
  },
  {
   "cell_type": "code",
   "execution_count": 281,
   "id": "eadacc8430c777da",
   "metadata": {
    "ExecuteTime": {
     "end_time": "2024-11-03T00:34:23.595183Z",
     "start_time": "2024-11-03T00:34:23.573549Z"
    }
   },
   "outputs": [
    {
     "name": "stdout",
     "output_type": "stream",
     "text": [
      "      Actual Duration(s)  Predicted Duration(s)\n",
      "0                    320                    301\n",
      "1                    584                    733\n",
      "2                    676                    421\n",
      "3                    564                    638\n",
      "4                     88                    110\n",
      "...                  ...                    ...\n",
      "8445                 252                    268\n",
      "8446                 212                    434\n",
      "8447                 152                     97\n",
      "8448                 640                    798\n",
      "8449                 508                    621\n",
      "\n",
      "[8450 rows x 2 columns]\n"
     ]
    }
   ],
   "source": [
    "comparison_df = pd.DataFrame({\n",
    "    'Actual Duration(s)': y_test.values.flatten().astype(int),  # Flatten to convert to 1D array\n",
    "    'Predicted Duration(s)': test_predictions.flatten().astype(int)  # Flatten to convert to 1D array\n",
    "})\n",
    "\n",
    "print(comparison_df)"
   ]
  },
  {
   "cell_type": "code",
   "execution_count": 282,
   "id": "f85aa2521c23c9cd",
   "metadata": {
    "ExecuteTime": {
     "end_time": "2024-11-03T00:34:23.646970Z",
     "start_time": "2024-11-03T00:34:23.629002Z"
    }
   },
   "outputs": [],
   "source": [
    "with open('regressor.pkl', 'wb') as f:\n",
    "    pickle.dump(knn, f)\n",
    "    \n",
    "with open('scaler.pkl', 'wb') as f:\n",
    "    pickle.dump(scaler, f)"
   ]
  },
  {
   "cell_type": "code",
   "execution_count": 283,
   "id": "5be2bdd8340614f5",
   "metadata": {
    "ExecuteTime": {
     "end_time": "2024-11-03T00:34:23.726193Z",
     "start_time": "2024-11-03T00:34:23.710129Z"
    }
   },
   "outputs": [
    {
     "name": "stdout",
     "output_type": "stream",
     "text": [
      "<class 'pandas.core.frame.DataFrame'>\n",
      "Index: 42250 entries, 52183 to 116142\n",
      "Data columns (total 8 columns):\n",
      " #   Column            Non-Null Count  Dtype  \n",
      "---  ------            --------------  -----  \n",
      " 0   peak.c/s          42250 non-null  int64  \n",
      " 1   total.counts      42250 non-null  float64\n",
      " 2   x.pos.asec        42250 non-null  int64  \n",
      " 3   y.pos.asec        42250 non-null  int64  \n",
      " 4   radial            42250 non-null  int64  \n",
      " 5   active.region.ar  42250 non-null  int64  \n",
      " 6   energy_low_ev     42250 non-null  int64  \n",
      " 7   energy_high_ev    42250 non-null  int64  \n",
      "dtypes: float64(1), int64(7)\n",
      "memory usage: 2.9 MB\n"
     ]
    }
   ],
   "source": [
    "X.info()"
   ]
  },
  {
   "cell_type": "code",
   "execution_count": 284,
   "id": "45acbf4d5a952059",
   "metadata": {
    "ExecuteTime": {
     "end_time": "2024-11-03T00:34:23.808307Z",
     "start_time": "2024-11-03T00:34:23.798990Z"
    }
   },
   "outputs": [
    {
     "name": "stdout",
     "output_type": "stream",
     "text": [
      "<class 'pandas.core.frame.DataFrame'>\n",
      "Index: 42250 entries, 52183 to 116142\n",
      "Data columns (total 1 columns):\n",
      " #   Column      Non-Null Count  Dtype\n",
      "---  ------      --------------  -----\n",
      " 0   duration.s  42250 non-null  int64\n",
      "dtypes: int64(1)\n",
      "memory usage: 660.2 KB\n"
     ]
    }
   ],
   "source": [
    "y.info()"
   ]
  },
  {
   "cell_type": "code",
   "execution_count": null,
   "id": "573493588bb152e8",
   "metadata": {
    "ExecuteTime": {
     "end_time": "2024-11-03T00:34:23.903154Z",
     "start_time": "2024-11-03T00:34:23.899137Z"
    }
   },
   "outputs": [],
   "source": []
  }
 ],
 "metadata": {
  "kernelspec": {
   "display_name": "Python 3",
   "language": "python",
   "name": "python3"
  },
  "language_info": {
   "codemirror_mode": {
    "name": "ipython",
    "version": 2
   },
   "file_extension": ".py",
   "mimetype": "text/x-python",
   "name": "python",
   "nbconvert_exporter": "python",
   "pygments_lexer": "ipython2",
   "version": "3.10.4"
  }
 },
 "nbformat": 4,
 "nbformat_minor": 5
}
